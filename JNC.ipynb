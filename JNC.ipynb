{
 "cells": [
  {
   "cell_type": "code",
   "execution_count": 60,
   "metadata": {},
   "outputs": [],
   "source": [
    "import matplotlib.pyplot as plt\n",
    "import numpy as np\n",
    "import scipy\n",
    "import helper_functions as hf\n",
    "from data import interpolate_temperature"
   ]
  },
  {
   "cell_type": "code",
   "execution_count": 63,
   "metadata": {},
   "outputs": [],
   "source": [
    "instrument = '100MHz'\n",
    "year = '2021'\n",
    "\n",
    "channel = 'EW' # curently must be opposite of what you want.\n",
    "\n",
    "path2file = f'../Data/{year}/{instrument[:-3]}/{channel}/'\n",
    "file_ending = f'_{year}_{instrument[:-3]}{channel}.npy'\n",
    "\n",
    "with open(path2file + 'res50' + file_ending, 'rb') as f:\n",
    "    P50 = np.load(f)\n",
    "with open(path2file + 'res100' + file_ending, 'rb') as f:\n",
    "    P100 = np.load(f)\n",
    "with open(path2file + 'short' + file_ending, 'rb') as f:\n",
    "    Pshort = np.load(f)\n",
    "with open(path2file + 'systime' + file_ending, 'rb') as f:\n",
    "    systime = np.load(f)\n",
    "\n",
    "channel = 'NS'\n",
    "    \n",
    "# rfi flagged data & freq\n",
    "with open(f'RFI_flagged/rfi_flagged_{instrument[:-3]}{channel}.npz', 'rb') as f:\n",
    "    data_file = np.load(f)\n",
    "    data = data_file['data'] ####### need to use short only calib. this is res50 calib\n",
    "    freq = data_file['freq']"
   ]
  },
  {
   "cell_type": "code",
   "execution_count": 64,
   "metadata": {},
   "outputs": [],
   "source": [
    "# upload ambient temperature\n",
    "\n",
    "ambient_temperature = np.load(f'Temperature/T_ambient_{instrument}.npz')\n",
    "T_amb, T_amb_time = ambient_temperature['T_amb'], ambient_temperature['systime']\n",
    "\n",
    "T_amb, systime, interp_inds = interpolate_temperature(T_amb, T_amb_time, systime)\n",
    "\n",
    "# apply temperature interpolation cuts in time antenna\n",
    "P50 = P50[interp_inds]\n",
    "P100 = P100[interp_inds]\n",
    "Pshort = Pshort[interp_inds]\n",
    "data = data[interp_inds]"
   ]
  },
  {
   "cell_type": "code",
   "execution_count": null,
   "metadata": {},
   "outputs": [],
   "source": [
    "###### upload eta\n",
    "eta_ant = []\n",
    "eta50 = []\n",
    "eta100 = []"
   ]
  },
  {
   "cell_type": "code",
   "execution_count": 59,
   "metadata": {},
   "outputs": [],
   "source": [
    "def K_JNC(Z, P_short, P_50, P_100, eta_50, eta_100, T_amb, delta_t=6.4, delta_nu=250/4096): #### check actual integration time. seconds or hours?\n",
    "    '''\n",
    "    Parameters:\n",
    "        delta_nu (float): frequency channel width, MHz\n",
    "        delta_t (float): integration time, seconds or h ? TODO\n",
    "    '''\n",
    "    if Z == 50:\n",
    "        eta_Z = eta_50\n",
    "        P_load = P_50\n",
    "    elif Z == 100:\n",
    "        eta_Z = eta_100\n",
    "        P_load = P_100\n",
    "    else:\n",
    "        print('Z (impedence) must be 50 or 100')\n",
    "        \n",
    "    P_Z = (P_50 - P_100) / (eta_50 - 4 * eta_100) * Z**2 * eta_Z\n",
    "    \n",
    "    return T_amb / (P_load - P_short - P_Z - P_thermal(P_load, delta_t=delta_t, delta_nu=delta_nu))\n",
    "    \n",
    "\n",
    "def P_thermal(P_tot, delta_t=6.4, delta_nu=250/4096):\n",
    "    delta_nu *= 1e6 # convert MHz to Hz\n",
    "    return P_tot / np.sqrt(delta_nu * delta_t)"
   ]
  },
  {
   "cell_type": "code",
   "execution_count": null,
   "metadata": {},
   "outputs": [],
   "source": [
    "Z = 50\n",
    "integration_time = np.median(np.diff(systime))\n",
    "freq_width = 1\n",
    "\n",
    "K = K_JNC(Z, Pshort, P50, P100, eta50, eta100, delta_t=integration_time, delta_nu=freq_width)"
   ]
  },
  {
   "cell_type": "code",
   "execution_count": null,
   "metadata": {},
   "outputs": [],
   "source": [
    "# crop K to match antenna power data\n",
    "raw_freq = np.arange(0, 250, 250/4096)\n",
    "highpass = 49.5\n",
    "lowpass = 135.5\n",
    "K, _ = hf.truncate(K, raw_freq, highpass, lowpass)"
   ]
  },
  {
   "cell_type": "code",
   "execution_count": null,
   "metadata": {},
   "outputs": [],
   "source": [
    "Tsky = K * (data - P_thermal(data, delta_t=integration_time, delta_nu=freq_width)) / eta_ant"
   ]
  },
  {
   "cell_type": "markdown",
   "metadata": {},
   "source": [
    "### Compare to GSM"
   ]
  },
  {
   "cell_type": "code",
   "execution_count": null,
   "metadata": {},
   "outputs": [],
   "source": [
    "Tgsm = np.load(f'GSM_averages/{instrument}_{channel}_GSM_average_2minbins_horizon_0align.npy')\n",
    "gsm_flow = 30"
   ]
  },
  {
   "cell_type": "code",
   "execution_count": null,
   "metadata": {},
   "outputs": [],
   "source": [
    "# bin data to compare with Tgsm\n",
    "binsize_f = 1\n",
    "binsize_t = 2\n",
    "flow = 50\n",
    "fhigh = 135\n",
    "Tsky_binned, freq_1mhz, lst_2min, bin_inds_f, bin_inds_t = hf.binning(Tsky, freq, lst, binsize_f, binsize_t, flow, fhigh)"
   ]
  },
  {
   "cell_type": "code",
   "execution_count": null,
   "metadata": {},
   "outputs": [],
   "source": [
    "f = 90\n",
    "offset = 10\n",
    "\n",
    "fig = plt.figure()\n",
    "ax = fig.subplots(1,2)\n",
    "ax[0].grid()\n",
    "ax[0].set_title(f'{f}MHz')\n",
    "ax[0].set_ylabel('Temperature (K)')\n",
    "ax[0].set_xlabel('LST')\n",
    "ax[0].plot(lst_2min, Tsky_binned[:, (f - flow)], label='data')\n",
    "ax[0].plot(lst_2min, Tgsm[(np.arange(720)+offset)%720, (f - gsm_flow)//2], label='gsm')\n",
    "ax[0].legend()\n",
    "\n",
    "ax[1].grid()\n",
    "ax[1].set_ylabel('residual (K)')\n",
    "ax[1].set_xlabel('LST')\n",
    "ax[1].plot(lst_2min, Tsky_binned[:, (f - flow)] - Tgsm[(np.arange(720)+offset)%720, (f - gsm_flow)//2])"
   ]
  },
  {
   "cell_type": "code",
   "execution_count": null,
   "metadata": {},
   "outputs": [],
   "source": [
    "plt.figure()\n",
    "plt.xlabel('Frequency (MHz)')\n",
    "plt.ylabel('LST (hours)')\n",
    "plt.pcolormesh(freq_1mhz, lst_2min, Tsky_binned - Tgsm[(np.arange(720)+offset)%720], cmap='jet', shading='nearest')\n",
    "plt.colorbar(label='res (K)')\n",
    "plt.show()"
   ]
  }
 ],
 "metadata": {
  "kernelspec": {
   "display_name": "prizmenv",
   "language": "python",
   "name": "prizmenv"
  },
  "language_info": {
   "codemirror_mode": {
    "name": "ipython",
    "version": 3
   },
   "file_extension": ".py",
   "mimetype": "text/x-python",
   "name": "python",
   "nbconvert_exporter": "python",
   "pygments_lexer": "ipython3",
   "version": "3.9.8"
  }
 },
 "nbformat": 4,
 "nbformat_minor": 4
}

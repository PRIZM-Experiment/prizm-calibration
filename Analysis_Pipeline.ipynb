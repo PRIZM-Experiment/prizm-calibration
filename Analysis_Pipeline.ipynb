{
 "cells": [
  {
   "cell_type": "markdown",
   "metadata": {},
   "source": [
    "#### PRIZM Data Prep Pipeline"
   ]
  },
  {
   "cell_type": "code",
   "execution_count": 2,
   "metadata": {},
   "outputs": [],
   "source": [
    "from data_prep import DataPrep\n",
    "from data_binning import *\n",
    "import matplotlib.pyplot as plt\n",
    "import numpy as np"
   ]
  },
  {
   "cell_type": "code",
   "execution_count": 7,
   "metadata": {},
   "outputs": [],
   "source": [
    "calib_type = 'GSM' # 'GSM' for short subtracted data, 'raw' for raw antenna"
   ]
  },
  {
   "cell_type": "markdown",
   "metadata": {},
   "source": [
    "If getting data from the metadatabase:"
   ]
  },
  {
   "cell_type": "code",
   "execution_count": null,
   "metadata": {},
   "outputs": [],
   "source": [
    "instrument = '100MHz'\n",
    "channel = 'EW'\n",
    "year = '2021'\n",
    "\n",
    "dataprep = DataPrep(instrument, channel, year)\n",
    "data, lst, _ = dataprep(calibration_type=calib_type)"
   ]
  },
  {
   "cell_type": "markdown",
   "metadata": {},
   "source": [
    "To save output of DataPrep:"
   ]
  },
  {
   "cell_type": "code",
   "execution_count": null,
   "metadata": {},
   "outputs": [],
   "source": [
    "path2file = 'Data/2021/100/EW/'\n",
    "file_end = '_2021_100EW.npy'\n",
    "arrays = [data, lst]\n",
    "names = ['data', 'lst']\n",
    "\n",
    "for i in range(len(names)):\n",
    "    np.save(path2file + names[i] + file_end, arrays[i])"
   ]
  },
  {
   "cell_type": "markdown",
   "metadata": {},
   "source": [
    "If uploading data from saved NumPy files:"
   ]
  },
  {
   "cell_type": "code",
   "execution_count": 8,
   "metadata": {},
   "outputs": [],
   "source": [
    "path2file = '../DATA/2021/100/EW/'\n",
    "file_ending = '_2021_100EW.npy'\n",
    "\n",
    "with open(path2file + 'data' + file_ending, 'rb') as f:\n",
    "    data = np.load(f)\n",
    "with open(path2file + 'lst' + file_ending, 'rb') as f:\n",
    "    lst = np.load(f)\n",
    "if calib_type == 'GSM':\n",
    "    with open(path2file + 'short_interp' + file_ending, 'rb') as f:\n",
    "        short = np.load(f)\n",
    "    data -= short"
   ]
  },
  {
   "cell_type": "markdown",
   "metadata": {},
   "source": [
    "Data truncation and RFI excision"
   ]
  },
  {
   "cell_type": "code",
   "execution_count": null,
   "metadata": {},
   "outputs": [],
   "source": [
    "RFI = RFI_flagging(data, lst)\n",
    "data = RFI.data"
   ]
  },
  {
   "cell_type": "markdown",
   "metadata": {},
   "source": [
    "LST Binning"
   ]
  },
  {
   "cell_type": "code",
   "execution_count": null,
   "metadata": {},
   "outputs": [],
   "source": [
    "lst_bins, data_binned, _ = lst_binning(data, lst, binsize=2)"
   ]
  },
  {
   "cell_type": "code",
   "execution_count": null,
   "metadata": {},
   "outputs": [],
   "source": []
  }
 ],
 "metadata": {
  "kernelspec": {
   "display_name": "Python 3",
   "language": "python",
   "name": "python3"
  },
  "language_info": {
   "codemirror_mode": {
    "name": "ipython",
    "version": 3
   },
   "file_extension": ".py",
   "mimetype": "text/x-python",
   "name": "python",
   "nbconvert_exporter": "python",
   "pygments_lexer": "ipython3",
   "version": "3.8.5"
  }
 },
 "nbformat": 4,
 "nbformat_minor": 4
}

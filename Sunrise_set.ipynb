{
 "cells": [
  {
   "cell_type": "code",
   "execution_count": null,
   "metadata": {},
   "outputs": [],
   "source": [
    "from astropy.coordinates import EarthLocation\n",
    "from astropy.time import Time\n",
    "from astropy import units as u\n",
    "from datetime import datetime\n",
    "\n",
    "observing_location = EarthLocation(lat=-46.88694*u.deg, lon=37.73695*u.deg)\n",
    "observing_time = Time('2021-10-13 05:17:0', format='iso', scale='utc', location=observing_location)\n",
    "LST = observing_time.sidereal_time('mean')"
   ]
  },
  {
   "cell_type": "code",
   "execution_count": null,
   "metadata": {},
   "outputs": [],
   "source": [
    "# LST sunset/sunrise times oct 21-dec 13\n",
    "sunset = (np.linspace(0, 24 - 23.69 + 4.39, 53) + 23.69)%24\n",
    "sunrise = np.linspace(9.9, 12.71, 53)"
   ]
  },
  {
   "cell_type": "code",
   "execution_count": null,
   "metadata": {},
   "outputs": [],
   "source": [
    "for chan in range(2):\n",
    "    fig = plt.figure(figsize=(15,4))\n",
    "    ax = fig.subplots(1,3, sharey=True)\n",
    "    fig.tight_layout()\n",
    "    for i in range(3):\n",
    "        ax[i].grid()\n",
    "        ax[i].set_ylabel('LST')\n",
    "        ax[i].set_xlabel('days')\n",
    "        ax[i].set_xlim(-1,55)\n",
    "        ax[i].fill_between(range(53), sunrise, np.concatenate([sunset[:4], [24]*(53-4)]), color='y', alpha=0.1, label='day')\n",
    "        ax[i].fill_between(range(4, 53), sunset[4:], color='y', alpha=0.1)\n",
    "        for d in range(len(day_splits[chan])-1):\n",
    "            ax[i].plot(((systime[chan][day_splits[chan][d]:day_splits[chan][d+1]] - t0) / 3600 / 24), \\\n",
    "                       lst[chan][day_splits[chan][d]:day_splits[chan][d+1]], '.')"
   ]
  }
 ],
 "metadata": {
  "kernelspec": {
   "display_name": "prizmenv",
   "language": "python",
   "name": "prizmenv"
  },
  "language_info": {
   "codemirror_mode": {
    "name": "ipython",
    "version": 3
   },
   "file_extension": ".py",
   "mimetype": "text/x-python",
   "name": "python",
   "nbconvert_exporter": "python",
   "pygments_lexer": "ipython3",
   "version": "3.9.8"
  }
 },
 "nbformat": 4,
 "nbformat_minor": 4
}
